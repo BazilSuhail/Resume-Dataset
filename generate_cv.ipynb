{
 "cells": [
  {
   "cell_type": "code",
   "execution_count": null,
   "id": "6d0a5b33",
   "metadata": {
    "vscode": {
     "languageId": "plaintext"
    }
   },
   "outputs": [],
   "source": [
    "!apt-get update\n",
    "!apt-get install -y texlive-latex-base texlive-fonts-recommended texlive-fonts-extra texlive-latex-extra"
   ]
  },
  {
   "cell_type": "code",
   "execution_count": null,
   "id": "9fd77f18",
   "metadata": {
    "vscode": {
     "languageId": "plaintext"
    }
   },
   "outputs": [],
   "source": [
    "%%writefile cv_template.tex\n",
    "%-------------------------\n",
    "% Resume Template in LaTeX\n",
    "%------------------------\n",
    "\n",
    "\\documentclass[letterpaper,11pt]{article}\n",
    "\n",
    "\\usepackage{latexsym}\n",
    "\\usepackage[empty]{fullpage}\n",
    "\\usepackage{titlesec}\n",
    "\\usepackage{marvosym}\n",
    "\\usepackage{enumitem}\n",
    "\\usepackage[usenames,dvipsnames]{color}\n",
    "\\usepackage{verbatim}\n",
    "\\usepackage[pdftex]{hyperref}\n",
    "\\usepackage{fancyhdr}\n",
    "\n",
    "\\pagestyle{fancy}\n",
    "\\fancyhf{}\n",
    "\\fancyfoot{}\n",
    "\\renewcommand{\\headrulewidth}{0pt}\n",
    "\\renewcommand{\\footrulewidth}{0pt}\n",
    "\n",
    "\\addtolength{\\oddsidemargin}{-0.375in}\n",
    "\\addtolength{\\evensidemargin}{-0.375in}\n",
    "\\addtolength{\\textwidth}{1in}\n",
    "\\addtolength{\\topmargin}{-.5in}\n",
    "\\addtolength{\\textheight}{1.0in}\n",
    "\n",
    "\\urlstyle{same}\n",
    "\\raggedbottom\n",
    "\\raggedright\n",
    "\\setlength{\\tabcolsep}{0in}\n",
    "\n",
    "\\titleformat{\\section}{\n",
    "  \\vspace{-4pt}\\scshape\\raggedright\\large\n",
    "}{}{0em}{}[\\color{black}\\titlerule \\vspace{-5pt}]\n",
    "\n",
    "\\newcommand{\\resumeItem}[2]{\n",
    "  \\item\\small{\n",
    "    \\textbf{#1}{: #2 \\vspace{-2pt}}\n",
    "  }\n",
    "}\n",
    "\n",
    "\\newcommand{\\resumeSubheading}[4]{\n",
    "  \\vspace{-1pt}\\item\n",
    "    \\begin{tabular*}{0.97\\textwidth}{l@{\\extracolsep{\\fill}}r}\n",
    "      \\textbf{#1} & #2 \\\\\n",
    "      \\textit{\\small#3} & \\textit{\\small #4} \\\\\n",
    "    \\end{tabular*}\\vspace{-5pt}\n",
    "}\n",
    "\n",
    "\\newcommand{\\resumeSubItem}[2]{\\resumeItem{#1}{#2}\\vspace{-4pt}}\n",
    "\n",
    "\\renewcommand{\\labelitemii}{$\\circ$}\n",
    "\\newcommand{\\resumeSubHeadingListStart}{\\begin{itemize}[leftmargin=*]}\n",
    "\\newcommand{\\resumeSubHeadingListEnd}{\\end{itemize}}\n",
    "\\newcommand{\\resumeItemListStart}{\\begin{itemize}}\n",
    "\\newcommand{\\resumeItemListEnd}{\\end{itemize}\\vspace{-5pt}}\n",
    "\n",
    "\\begin{document}\n",
    "\n",
    "%----------HEADING-----------------\n",
    "\\begin{tabular*}{\\textwidth}{l@{\\extracolsep{\\fill}}r}\n",
    "  \\textbf{\\href{{website}}{\\Large {name}}} & Email : \\href{mailto:{email}}{ {email} }\\\\\n",
    "  \\href{{website}}{{website}} & Mobile : {mobile} \\\\\n",
    "\\end{tabular*}\n",
    "\n",
    "%-----------EDUCATION-----------------\n",
    "\\section{Education}\n",
    "  \\resumeSubHeadingListStart\n",
    "{education}\n",
    "  \\resumeSubHeadingListEnd\n",
    "\n",
    "%-----------EXPERIENCE-----------------\n",
    "\\section{Experience}\n",
    "  \\resumeSubHeadingListStart\n",
    "{experience}\n",
    "  \\resumeSubHeadingListEnd\n",
    "\n",
    "%-----------PROJECTS-----------------\n",
    "\\section{Projects}\n",
    "  \\resumeSubHeadingListStart\n",
    "{projects}\n",
    "  \\resumeSubHeadingListEnd\n",
    "\n",
    "%--------PROGRAMMING SKILLS------------\n",
    "\\section{Programming Skills}\n",
    " \\resumeSubHeadingListStart\n",
    "   \\item{\n",
    "     \\textbf{Languages}{: {languages}}\n",
    "     \\hfill\n",
    "     \\textbf{Technologies}{: {technologies}}\n",
    "   }\n",
    " \\resumeSubHeadingListEnd\n",
    "\n",
    "\\end{document}\n"
   ]
  },
  {
   "cell_type": "code",
   "execution_count": null,
   "id": "e58070ea",
   "metadata": {
    "vscode": {
     "languageId": "plaintext"
    }
   },
   "outputs": [],
   "source": [
    "%%writefile cv_data.csv\n",
    "name,email,mobile,website,education,experience,projects,languages,technologies\n",
    "Alice Johnson,alice.johnson@example.com,+1-555-123-4567,https://alicejohnson.dev,\"{\\resumeSubheading{Massachusetts Institute of Technology}{Cambridge, MA}{B.Sc in Computer Science}{2012 -- 2016}\\resumeSubheading{Stanford University}{Stanford, CA}{M.Sc in Artificial Intelligence}{2016 -- 2018}}\",\"{\\resumeSubheading{Google}{Mountain View, CA}{Senior Software Engineer}{2020 -- Present}\\resumeItemListStart\\resumeItem{Search Ranking}{Led a team improving ranking algorithms, increasing CTR by 12\\%}\\resumeItem{ML Infrastructure}{Built large-scale distributed training systems using TensorFlow}\\resumeItemListEnd\\resumeSubheading{OpenAI}{San Francisco, CA}{Research Engineer}{2018 -- 2020}\\resumeItemListStart\\resumeItem{Language Models}{Trained GPT-based models for summarization and question answering}\\resumeItem{Deployment}{Optimized inference pipelines to reduce latency by 40\\%}\\resumeItemListEnd}\",\"{\\resumeSubItem{Vision-Based Navigation}{Developed computer vision algorithms for autonomous drones}\\resumeSubItem{Real-Time Translation App}{Built a speech-to-text and translation app for Android using ML Kit}\\resumeSubItem{Distributed Graph Processing}{Implemented a graph analytics framework optimized for AWS EMR}}\",\"Python, C++, JavaScript, Julia\",\"TensorFlow, PyTorch, AWS, Kubernetes, Docker, BigQuery\"\n",
    "David Kim,david.kim@example.com,+44-7700-900123,https://davidkim.io,\"{\\resumeSubheading{University of Cambridge}{Cambridge, UK}{B.A. in Computer Science}{2010 -- 2013}\\resumeSubheading{Imperial College London}{London, UK}{M.Sc in Data Science}{2013 -- 2014}}\",\"{\\resumeSubheading{DeepMind}{London, UK}{Research Scientist}{2019 -- Present}\\resumeItemListStart\\resumeItem{Reinforcement Learning}{Developed novel RL algorithms for multi-agent coordination}\\resumeItem{Publications}{Published 5 papers in NeurIPS, ICLR, and AAAI}\\resumeItemListEnd\\resumeSubheading{Microsoft Research}{Cambridge, UK}{Machine Learning Engineer}{2015 -- 2019}\\resumeItemListStart\\resumeItem{Healthcare AI}{Designed deep learning models for early disease detection}\\resumeItem{Data Platform}{Created a scalable ETL pipeline for 500M+ medical records}\\resumeItemListEnd}\",\"{\\resumeSubItem{Quantum Computing Simulator}{Built a simulator for testing quantum algorithms in Python}\\resumeSubItem{AI Chess Engine}{Created a chess engine with AlphaZero-inspired architecture}\\resumeSubItem{Climate Data Dashboard}{Developed an interactive visualization tool for global climate datasets}}\",\"Python, Go, Rust, MATLAB\",\"PyTorch, JAX, GCP, Azure, Airflow, Terraform\"\n"
   ]
  },
  {
   "cell_type": "code",
   "execution_count": null,
   "id": "9b4fdc7b",
   "metadata": {
    "vscode": {
     "languageId": "plaintext"
    }
   },
   "outputs": [],
   "source": [
    "import pandas as pd\n",
    "import subprocess\n",
    "import os\n",
    "\n",
    "def load_template(template_file):\n",
    "    with open(template_file, 'r') as f:\n",
    "        return f.read()\n",
    "\n",
    "def latex_to_pdf(latex_code, output_filename):\n",
    "    tex_file = f\"{output_filename}.tex\"\n",
    "    with open(tex_file, \"w\") as f:\n",
    "        f.write(latex_code)\n",
    "    subprocess.run([\"pdflatex\", tex_file], stdout=subprocess.PIPE, stderr=subprocess.PIPE)\n",
    "    for ext in [\"aux\", \"log\", \"tex\"]:\n",
    "        if os.path.exists(f\"{output_filename}.{ext}\"):\n",
    "            os.remove(f\"{output_filename}.{ext}\")\n",
    "\n",
    "def generate_cvs(csv_file, template_file):\n",
    "    df = pd.read_csv(csv_file)\n",
    "    template = load_template(template_file)\n",
    "    for _, row in df.iterrows():\n",
    "        latex_code = template\n",
    "        for col in df.columns:\n",
    "            latex_code = latex_code.replace(f\"{{{col}}}\", str(row[col]))\n",
    "        output_filename = f\"CV_{row['name'].replace(' ', '_')}\"\n",
    "        latex_to_pdf(latex_code, output_filename)\n",
    "\n",
    "generate_cvs(\"cv_data.csv\", \"cv_template.tex\")\n"
   ]
  },
  {
   "cell_type": "code",
   "execution_count": null,
   "id": "4235c0ba",
   "metadata": {
    "vscode": {
     "languageId": "plaintext"
    }
   },
   "outputs": [],
   "source": [
    "from google.colab import files\n",
    "for file in os.listdir():\n",
    "    if file.endswith(\".pdf\"):\n",
    "        files.download(file)\n"
   ]
  }
 ],
 "metadata": {
  "language_info": {
   "name": "python"
  }
 },
 "nbformat": 4,
 "nbformat_minor": 5
}
